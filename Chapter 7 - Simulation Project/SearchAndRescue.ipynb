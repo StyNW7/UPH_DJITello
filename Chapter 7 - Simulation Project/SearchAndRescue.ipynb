{
 "cells": [
  {
   "attachments": {},
   "cell_type": "markdown",
   "metadata": {},
   "source": [
    "## DJI Tello Drone - YOLOv5\n"
   ]
  },
  {
   "cell_type": "code",
   "execution_count": 1,
   "metadata": {},
   "outputs": [],
   "source": [
    "import matplotlib.pyplot as plt\n",
    "import cv2\n",
    "import torch\n",
    "import threading"
   ]
  },
  {
   "cell_type": "code",
   "execution_count": null,
   "metadata": {},
   "outputs": [],
   "source": [
    "#Ref. https://github.com/ultralytics/yolov5\n",
    "#NOTE: Connect to internet, after this cell is executed, connect to drone\n",
    "\n",
    "path = \"D:/Python/UPH_Internship_2023/Ball_Track/NewBallDataset.pt\"\n",
    "model = torch.hub.load(\"ultralytics/yolov5\", \"custom\", path, force_reload=True)"
   ]
  },
  {
   "cell_type": "code",
   "execution_count": null,
   "metadata": {},
   "outputs": [],
   "source": [
    "# Thanks Github Copilot\n",
    "def detect_yolo(video):\n",
    "    \"\"\"Detect from video file then cv2.imshow\"\"\"\n",
    "    cap = cv2.VideoCapture(video)\n",
    "    while cap.isOpened():\n",
    "        ret, frame = cap.read()\n",
    "        if ret:\n",
    "            results = model(frame)\n",
    "            results.render() #NOTE YOLO render function replaces old image with annotated image\n",
    "            cv2.imshow(\"frame\", frame) #NOTE call imshow with old variable\n",
    "            if cv2.waitKey(1) & 0xFF == ord(\"q\"):\n",
    "                break\n",
    "\n",
    "            \"\"\"get names of detected objects then print name confidence and bounding box dimensions\"\"\"\n",
    "            for i in range(len(results.xyxy[0])):\n",
    "                name = results.names[int(results.xyxy[0][i][5])]\n",
    "                conf = results.xyxy[0][i][4]\n",
    "                print(name, conf)\n",
    "                x1 = int(results.xyxy[0][i][0])\n",
    "                y1 = int(results.xyxy[0][i][1])\n",
    "                x2 = int(results.xyxy[0][i][2])\n",
    "                y2 = int(results.xyxy[0][i][3])\n",
    "                print(x1, y1, x2, y2)\n",
    "            \n",
    "        else:\n",
    "            break\n",
    "\n",
    "    cap.release()\n",
    "    cv2.destroyAllWindows()\n"
   ]
  },
  {
   "cell_type": "code",
   "execution_count": null,
   "metadata": {},
   "outputs": [],
   "source": [
    "\n",
    "#detect_yolo(0)"
   ]
  },
  {
   "cell_type": "code",
   "execution_count": null,
   "metadata": {},
   "outputs": [],
   "source": [
    "#NOTE Run this cell if window gets stuck\n",
    "try:\n",
    "    cv2.destroyAllWindows()\n",
    "except:\n",
    "    print(\"No cv2 windows open\")"
   ]
  },
  {
   "cell_type": "code",
   "execution_count": null,
   "metadata": {},
   "outputs": [],
   "source": [
    "from djitellopy import Tello\n",
    "from time import sleep\n",
    "#Ref. https://github.com/damiafuentes/DJITelloPy/blob/master/examples/take-picture.py\n",
    "#NOTE when this runs make sure you are connected to the drone wifi\n",
    "\n",
    "tello = Tello()\n",
    "tello.connect()\n",
    "\n",
    "tello.streamon()\n",
    "sleep(2)\n",
    "\n",
    "#BUG window stuck so a a force quit is needed. Please restart the Python kernel tqo continue\n",
    "#NOTE this function loads slowly\n",
    "\n",
    "def yolo_drone(tello):\n",
    "    \"\"\"get video from tello then detect\"\"\"\n",
    "    run = True\n",
    "    \"\"\"make a thread to keep the drone alive\"\"\"\n",
    "    t = threading.Thread(target=keep_alive_drone, args=(tello,))\n",
    "    t.start()\n",
    "    t_running = True\n",
    "    print(\"Thread Start\")\n",
    "    i = 0\n",
    "    while run == True:        \n",
    "        try:\n",
    "                \n",
    "            #this loading part is  s l o w  at the start\n",
    "            #BUG drone timeouts b4 loading is done\n",
    "            my_frame = tello.get_frame_read().frame\n",
    "            results = model(my_frame)\n",
    "            results.render()\n",
    "            cv2.imshow(\"frame\", my_frame)\n",
    "                       \n",
    "            if cv2.waitKey(1) & 0xFF == ord(\"q\"):\n",
    "                run=False\n",
    "                cv2.destroyAllWindows()\n",
    "                return\n",
    "            \"\"\"get tello camera resolution\"\"\"\n",
    "            width = tello.get_video_capture().get(3)\n",
    "            height = tello.get_video_capture().get(4)\n",
    "            #print(width, height)\n",
    "\n",
    "            \"\"\"set bounding box dimensions\"\"\"\n",
    "            x1_min = 0.15*width\n",
    "            x1_max = width\n",
    "            y1_min = 0.15*height\n",
    "            y1_max = height\n",
    "        \n",
    "            \"\"\"get names of detected objects then print name confidence and bounding box dimensions\"\"\"\n",
    "            for i in range(len(results.xyxy[0])):\n",
    "                try:\n",
    "                    name = results.names[int(results.xyxy[0][i][5])]\n",
    "                    if name!=\"balls\": continue\n",
    "                    \n",
    "                    conf = results.xyxy[0][i][4]\n",
    "                    print(name, conf)\n",
    "                    x1 = int(results.xyxy[0][i][0]) #x1 is left side of bounding box\n",
    "                    y1 = int(results.xyxy[0][i][1]) #y1 is top side of bounding box\n",
    "                    x2 = int(results.xyxy[0][i][2]) #x2 is right side of bounding box\n",
    "                    y2 = int(results.xyxy[0][i][3]) #y2 is bottom side of bounding box\n",
    "\n",
    "                    \"\"\"move drone if object is out of bounds L/R\"\"\"\n",
    "                    if x1<x1_min:\n",
    "                        tello.move_left(20)\n",
    "                        print(\"move left\")\n",
    "                    if x1>x1_max-x1_min: #keep centered\n",
    "                        tello.move_right(20)\n",
    "                        print(\"move right\")\n",
    "                    \"\"\"move drone if object is out of bounds U/D\"\"\"\n",
    "                    if y1>y1_min:\n",
    "                        tello.move_down(20)\n",
    "                        print(\"move down\")\n",
    "                    if y1<y1_max-y1_min: #keep centered\n",
    "                        tello.move_up(20)\n",
    "                        print(\"move up\")\n",
    "                    print(x1, y1, x2, y2)\n",
    "                except:\n",
    "                    pass\n",
    "\n",
    "        except:\n",
    "            pass\n",
    "\n",
    "def keep_alive_drone(tello):\n",
    "    sleep(1)\n",
    "    while True:\n",
    "        tello.rotate_clockwise(10)\n",
    "        sleep(3)\n",
    "        tello.rotate_counter_clockwise(10)\n",
    "        sleep(3)\n"
   ]
  },
  {
   "attachments": {},
   "cell_type": "markdown",
   "metadata": {},
   "source": []
  },
  {
   "cell_type": "code",
   "execution_count": null,
   "metadata": {},
   "outputs": [],
   "source": [
    "print(\"Battery: \",tello.get_battery())\n",
    "def confirm(input):\n",
    "    \"\"\"if input is not y then stop jupyter\"\"\"\n",
    "    if input.lower() != \"y\":\n",
    "        raise SystemExit\n",
    "confirm(input=input(\"Continue Y/N\"))\n",
    "print(\"ok\")\n",
    "\n",
    "try:\n",
    "    tello.takeoff()\n",
    "except:\n",
    "    pass\n",
    "\n",
    "            \n",
    "sleep(2)\n",
    "#t2.start()\n",
    "yolo_drone(tello)"
   ]
  },
  {
   "cell_type": "code",
   "execution_count": null,
   "metadata": {},
   "outputs": [],
   "source": [
    "tello.get_battery()"
   ]
  },
  {
   "cell_type": "code",
   "execution_count": null,
   "metadata": {},
   "outputs": [],
   "source": [
    "tello.streamoff()"
   ]
  },
  {
   "cell_type": "code",
   "execution_count": null,
   "metadata": {},
   "outputs": [],
   "source": [
    "# Next Step - Move drone to the center of the detected object\n",
    "tello.land()"
   ]
  }
 ],
 "metadata": {
  "kernelspec": {
   "display_name": "Python 3.10.7 64-bit",
   "language": "python",
   "name": "python3"
  },
  "language_info": {
   "codemirror_mode": {
    "name": "ipython",
    "version": 3
   },
   "file_extension": ".py",
   "mimetype": "text/x-python",
   "name": "python",
   "nbconvert_exporter": "python",
   "pygments_lexer": "ipython3",
   "version": "3.10.0"
  },
  "orig_nbformat": 4,
  "vscode": {
   "interpreter": {
    "hash": "26de051ba29f2982a8de78e945f0abaf191376122a1563185a90213a26c5da77"
   }
  }
 },
 "nbformat": 4,
 "nbformat_minor": 2
}
